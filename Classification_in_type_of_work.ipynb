{
  "cells": [
    {
      "cell_type": "code",
      "execution_count": null,
      "metadata": {
        "id": "QaCSt5r1KZo9"
      },
      "outputs": [],
      "source": [
        "from transformers import pipeline\n",
        "import time\n",
        "import pandas as pd"
      ]
    },
    {
      "cell_type": "code",
      "execution_count": null,
      "metadata": {
        "id": "9fpJq72F8ANb",
        "colab": {
          "base_uri": "https://localhost:8080/"
        },
        "outputId": "96f085c8-52f5-433f-e498-5e11e3a55afc"
      },
      "outputs": [
        {
          "output_type": "stream",
          "name": "stdout",
          "text": [
            "Mounted at /content/drive\n"
          ]
        }
      ],
      "source": [
        "from google.colab import drive\n",
        "drive.mount('/content/drive')"
      ]
    },
    {
      "cell_type": "markdown",
      "metadata": {
        "id": "StowSWURKnfK"
      },
      "source": [
        "### Classifier model"
      ]
    },
    {
      "cell_type": "code",
      "source": [
        "#remove device = 0 if not using a gpu\n",
        "classifier = pipeline(\"zero-shot-classification\",\n",
        "                      model=\"facebook/bart-large-mnli\", device = 0)"
      ],
      "metadata": {
        "colab": {
          "base_uri": "https://localhost:8080/"
        },
        "id": "XYsh848_krd9",
        "outputId": "2a6db468-f6fb-48b2-cb4b-32cbe4373f5a"
      },
      "execution_count": null,
      "outputs": [
        {
          "output_type": "stream",
          "name": "stderr",
          "text": [
            "Device set to use cuda:0\n"
          ]
        }
      ]
    },
    {
      "cell_type": "code",
      "source": [
        "LABELS = [\"Construction of a new building\", \"Existing Structure Modification\", \"Demolition of a building\"]"
      ],
      "metadata": {
        "id": "q2opNt2IhC9x"
      },
      "execution_count": null,
      "outputs": []
    },
    {
      "cell_type": "code",
      "execution_count": null,
      "metadata": {
        "colab": {
          "base_uri": "https://localhost:8080/"
        },
        "id": "eJ5YcJGe-Jrh",
        "outputId": "913ba9ba-8aad-4d3f-ec1a-173651c4e5c8"
      },
      "outputs": [
        {
          "output_type": "stream",
          "name": "stdout",
          "text": [
            "{'sequence': 'The construction work involves building a new 13-story mixed-use building with 53 residential units, including a basement, and is being reviewed and inspected by a private provider for Atkins North America.', 'labels': ['New construction', 'Existing Structure Modification', 'Demolition'], 'scores': [0.9633380174636841, 0.033094607293605804, 0.0035674471873790026]}\n"
          ]
        }
      ],
      "source": [
        "###Example\n",
        "sequence = \"The construction work involves building a new 13-story mixed-use building with 53 residential units, including a basement, and is being reviewed and inspected by a private provider for Atkins North America.\"\n",
        "\n",
        "# Run zero-shot classification\n",
        "result = classifier(sequence, LABELS)\n",
        "\n",
        "print(result)"
      ]
    },
    {
      "cell_type": "code",
      "source": [
        "result = classifier(\"This description indicates that underground fire sprinkler system work is being performed.\", LABELS)\n",
        "\n",
        "print(result)"
      ],
      "metadata": {
        "colab": {
          "base_uri": "https://localhost:8080/"
        },
        "id": "SS3B5Y3PhiD9",
        "outputId": "1c75dc0e-6320-4906-ca87-af7e6299dadb"
      },
      "execution_count": null,
      "outputs": [
        {
          "output_type": "stream",
          "name": "stdout",
          "text": [
            "{'sequence': 'This description indicates that underground fire sprinkler system work is being performed.', 'labels': ['Existing Structure Modification', 'Demolition', 'New construction'], 'scores': [0.8803701996803284, 0.06437518447637558, 0.05525461584329605]}\n"
          ]
        }
      ]
    },
    {
      "cell_type": "code",
      "source": [
        "result = classifier(\"The description indicates that construction work involved renovating the exterior of the Farnham Building located at 1012.\", LABELS)\n",
        "\n",
        "print(result)"
      ],
      "metadata": {
        "colab": {
          "base_uri": "https://localhost:8080/"
        },
        "id": "XZFhSXbviNcX",
        "outputId": "fee04de3-6cbc-4a7f-bbea-f6fe08c2d7f0"
      },
      "execution_count": null,
      "outputs": [
        {
          "output_type": "stream",
          "name": "stdout",
          "text": [
            "{'sequence': 'The description indicates that construction work involved renovating the exterior of the Farnham Building located at 1012.', 'labels': ['Existing Structure Modification', 'New construction', 'Demolition'], 'scores': [0.824742317199707, 0.14647892117500305, 0.028778819367289543]}\n"
          ]
        }
      ]
    },
    {
      "cell_type": "markdown",
      "metadata": {
        "id": "NGy3aNq0Q_uF"
      },
      "source": [
        "## Classify with a zero-shot algorithm"
      ]
    },
    {
      "cell_type": "code",
      "execution_count": null,
      "metadata": {
        "id": "B-vWCJvj8y3F"
      },
      "outputs": [],
      "source": [
        "com_directory = \"/content/drive/MyDrive/Colab Notebooks/Building_Permit_Data\""
      ]
    },
    {
      "cell_type": "code",
      "execution_count": null,
      "metadata": {
        "id": "b5dQ664e8vaM"
      },
      "outputs": [],
      "source": [
        "df_flo = pd.read_csv(com_directory + \"/df_flo_clean.csv.gz\")"
      ]
    },
    {
      "cell_type": "code",
      "execution_count": null,
      "metadata": {
        "id": "m5fJDKjoL3uh"
      },
      "outputs": [],
      "source": [
        "# Function to perform multilabel classification on a single text element\n",
        "def classify_text(text, candidate_labels, multi = False):\n",
        "    result = classifier(text, candidate_labels, multi_label = multi)\n",
        "    return {label: score for label, score in zip(result['labels'], result['scores'])}\n",
        "\n",
        "# Parallelized function applying classifier to DataFrame column\n",
        "def parallel_classify(df, text_column, candidate_labels, max_workers=4):\n",
        "    with ThreadPoolExecutor(max_workers=max_workers) as executor:\n",
        "        results = list(executor.map(lambda x: classify_text(x, candidate_labels), df[text_column]))\n",
        "\n",
        "    # Adding each probability score as a separate column\n",
        "    for label in candidate_labels:\n",
        "        df[label] = [res[label] for res in results]\n",
        "\n",
        "    return df"
      ]
    },
    {
      "cell_type": "code",
      "source": [
        "# Batch classify texts efficiently on GPU\n",
        "def batch_classify(df, text_column, candidate_labels, multi_label=False, batch_size=16):\n",
        "    texts = df[text_column].tolist()\n",
        "\n",
        "    # Run classification in batches\n",
        "    results = classifier(texts, candidate_labels, multi_label=multi_label, batch_size=batch_size)\n",
        "\n",
        "    # Handle results to add scores to DataFrame\n",
        "    for label in candidate_labels:\n",
        "        df[label] = [res['scores'][res['labels'].index(label)] for res in results]\n",
        "\n",
        "    return df"
      ],
      "metadata": {
        "id": "csRlz0PVkPun"
      },
      "execution_count": null,
      "outputs": []
    },
    {
      "cell_type": "code",
      "execution_count": null,
      "metadata": {
        "id": "28EaS9gl-KMO"
      },
      "outputs": [],
      "source": [
        "import os"
      ]
    },
    {
      "cell_type": "code",
      "execution_count": null,
      "metadata": {
        "colab": {
          "base_uri": "https://localhost:8080/"
        },
        "id": "40wm7pj2-hPW",
        "outputId": "32793126-df06-4e0d-af09-faf562a14c96"
      },
      "outputs": [
        {
          "output_type": "execute_result",
          "data": {
            "text/plain": [
              "12"
            ]
          },
          "metadata": {},
          "execution_count": 14
        }
      ],
      "source": [
        "os.cpu_count()"
      ]
    },
    {
      "cell_type": "code",
      "source": [
        "def chunk_classify(df, text_column, candidate_labels, chunk_size = 1000, multi_label=False, batch_size=16):\n",
        "  start = time.time()\n",
        "  chunk_size = 1000  # tune based on GPU capacity\n",
        "  df_list = []\n",
        "\n",
        "  for i in range(0, len(df), chunk_size):\n",
        "    chunk = df.iloc[i:i + chunk_size].copy()\n",
        "    classified_chunk = batch_classify(chunk, text_column, candidate_labels, multi_label=multi_label, batch_size = batch_size)\n",
        "    df_list.append(classified_chunk)\n",
        "\n",
        "  print(time.time() - start)\n",
        "\n",
        "  return pd.concat(df_list, ignore_index=True)"
      ],
      "metadata": {
        "id": "ag47UOuUn1uk"
      },
      "execution_count": null,
      "outputs": []
    },
    {
      "cell_type": "code",
      "source": [
        "classi = chunk_classify(df_flo, 'Corrected_Text', LABELS)"
      ],
      "metadata": {
        "colab": {
          "base_uri": "https://localhost:8080/"
        },
        "id": "un1byfM1oqE7",
        "outputId": "9c543d24-68d6-4771-da0c-3f6f5e144686"
      },
      "execution_count": null,
      "outputs": [
        {
          "output_type": "stream",
          "name": "stdout",
          "text": [
            "3472.525295972824\n"
          ]
        }
      ]
    },
    {
      "cell_type": "code",
      "source": [
        "classi.to_csv(com_directory + \"/df_flo_consorrenov.csv.gz\", compression = \"gzip\")"
      ],
      "metadata": {
        "id": "LYRvtTndDoTx"
      },
      "execution_count": null,
      "outputs": []
    },
    {
      "cell_type": "code",
      "source": [
        "classi"
      ],
      "metadata": {
        "colab": {
          "base_uri": "https://localhost:8080/",
          "height": 927
        },
        "id": "8HFnrBhdoy1M",
        "outputId": "dfccc2f6-7b37-4cbc-890a-5e9e1bfc619a"
      },
      "execution_count": null,
      "outputs": [
        {
          "output_type": "execute_result",
          "data": {
            "text/plain": [
              "      Unnamed: 0    Index                   Full Address  \\\n",
              "0         520846  4617108   900 biscayne blvd, miami, fl   \n",
              "1         520847  4617109   900 biscayne blvd, miami, fl   \n",
              "2         520848  4617110  2811 s bayshore dr, miami, fl   \n",
              "3         520849  4617111  1737 n bayshore dr, miami, fl   \n",
              "4         520850  4617112   400 biscayne blvd, miami, fl   \n",
              "...          ...      ...                            ...   \n",
              "1001      521848  4618110      3015 grand ave, miami, fl   \n",
              "1002      521849  4618111      3015 grand ave, miami, fl   \n",
              "1003      521850  4618112      3015 grand ave, miami, fl   \n",
              "1004      521851  4618113   1401 brickell ave, miami, fl   \n",
              "1005      521852  4618114   1401 brickell ave, miami, fl   \n",
              "\n",
              "                                            DESCRIPTION  tok  \\\n",
              "0     WOOD/LAMINATE/TILE|KITCHEN REMODELING/BATHROOM...   38   \n",
              "1     SETTING FIXTURE: BATHTUB|SETTING FIXTURE: LAVA...   43   \n",
              "2                     LIGHT SOCKET|ROUGH WIRING OUTLETS   10   \n",
              "3                           WHEELCHAIR LIFT / ADA  LIFT   11   \n",
              "4                              PHASED PERMIT-MECHANICAL    9   \n",
              "...                                                 ...  ...   \n",
              "1001  OWNER IDENTIFICATION SIGNS (ELECTRICAL): NEW S...   15   \n",
              "1002                                           BOX SIGN    2   \n",
              "1003  OWNER IDENTIFICATION SIGNS (ELECTRICAL): NEW S...   15   \n",
              "1004  REPLACE SAME LOCATION CENTRAL AC / HEATING SYSTEM   11   \n",
              "1005  REPLACE SAME LOCATION CENTRAL AC / HEATING SYSTEM   11   \n",
              "\n",
              "                                         Corrected_Text  Unnamed: 0.1  \\\n",
              "0     The description indicates that the constructio...           NaN   \n",
              "1     This building permit involved installing a bat...           NaN   \n",
              "2     The construction work involved installing ligh...           NaN   \n",
              "3     The construction work involved installing a wh...           NaN   \n",
              "4     The construction work involves obtaining permi...           NaN   \n",
              "...                                                 ...           ...   \n",
              "1001  This description indicates the installation of...           NaN   \n",
              "1002  A box sign refers to a type of illuminated sig...           NaN   \n",
              "1003  This building permit filing is for installing ...           NaN   \n",
              "1004  The construction work involved replacing the c...           NaN   \n",
              "1005  The old central AC/heating system will be repl...           NaN   \n",
              "\n",
              "      Construction of a new building  Existing Structure Modification  \\\n",
              "0                           0.139578                         0.809395   \n",
              "1                           0.616231                         0.370280   \n",
              "2                           0.480307                         0.487720   \n",
              "3                           0.527843                         0.450536   \n",
              "4                           0.445386                         0.492986   \n",
              "...                              ...                              ...   \n",
              "1001                        0.122402                         0.826208   \n",
              "1002                        0.170807                         0.752552   \n",
              "1003                        0.282064                         0.703985   \n",
              "1004                        0.047319                         0.928239   \n",
              "1005                        0.098543                         0.858445   \n",
              "\n",
              "      Demolition of a building  \n",
              "0                     0.051027  \n",
              "1                     0.013489  \n",
              "2                     0.031973  \n",
              "3                     0.021621  \n",
              "4                     0.061628  \n",
              "...                        ...  \n",
              "1001                  0.051390  \n",
              "1002                  0.076641  \n",
              "1003                  0.013950  \n",
              "1004                  0.024442  \n",
              "1005                  0.043012  \n",
              "\n",
              "[1006 rows x 10 columns]"
            ],
            "text/html": [
              "\n",
              "  <div id=\"df-ad7ada6e-d250-40fc-b6a2-429ccf9a1c41\" class=\"colab-df-container\">\n",
              "    <div>\n",
              "<style scoped>\n",
              "    .dataframe tbody tr th:only-of-type {\n",
              "        vertical-align: middle;\n",
              "    }\n",
              "\n",
              "    .dataframe tbody tr th {\n",
              "        vertical-align: top;\n",
              "    }\n",
              "\n",
              "    .dataframe thead th {\n",
              "        text-align: right;\n",
              "    }\n",
              "</style>\n",
              "<table border=\"1\" class=\"dataframe\">\n",
              "  <thead>\n",
              "    <tr style=\"text-align: right;\">\n",
              "      <th></th>\n",
              "      <th>Unnamed: 0</th>\n",
              "      <th>Index</th>\n",
              "      <th>Full Address</th>\n",
              "      <th>DESCRIPTION</th>\n",
              "      <th>tok</th>\n",
              "      <th>Corrected_Text</th>\n",
              "      <th>Unnamed: 0.1</th>\n",
              "      <th>Construction of a new building</th>\n",
              "      <th>Existing Structure Modification</th>\n",
              "      <th>Demolition of a building</th>\n",
              "    </tr>\n",
              "  </thead>\n",
              "  <tbody>\n",
              "    <tr>\n",
              "      <th>0</th>\n",
              "      <td>520846</td>\n",
              "      <td>4617108</td>\n",
              "      <td>900 biscayne blvd, miami, fl</td>\n",
              "      <td>WOOD/LAMINATE/TILE|KITCHEN REMODELING/BATHROOM...</td>\n",
              "      <td>38</td>\n",
              "      <td>The description indicates that the constructio...</td>\n",
              "      <td>NaN</td>\n",
              "      <td>0.139578</td>\n",
              "      <td>0.809395</td>\n",
              "      <td>0.051027</td>\n",
              "    </tr>\n",
              "    <tr>\n",
              "      <th>1</th>\n",
              "      <td>520847</td>\n",
              "      <td>4617109</td>\n",
              "      <td>900 biscayne blvd, miami, fl</td>\n",
              "      <td>SETTING FIXTURE: BATHTUB|SETTING FIXTURE: LAVA...</td>\n",
              "      <td>43</td>\n",
              "      <td>This building permit involved installing a bat...</td>\n",
              "      <td>NaN</td>\n",
              "      <td>0.616231</td>\n",
              "      <td>0.370280</td>\n",
              "      <td>0.013489</td>\n",
              "    </tr>\n",
              "    <tr>\n",
              "      <th>2</th>\n",
              "      <td>520848</td>\n",
              "      <td>4617110</td>\n",
              "      <td>2811 s bayshore dr, miami, fl</td>\n",
              "      <td>LIGHT SOCKET|ROUGH WIRING OUTLETS</td>\n",
              "      <td>10</td>\n",
              "      <td>The construction work involved installing ligh...</td>\n",
              "      <td>NaN</td>\n",
              "      <td>0.480307</td>\n",
              "      <td>0.487720</td>\n",
              "      <td>0.031973</td>\n",
              "    </tr>\n",
              "    <tr>\n",
              "      <th>3</th>\n",
              "      <td>520849</td>\n",
              "      <td>4617111</td>\n",
              "      <td>1737 n bayshore dr, miami, fl</td>\n",
              "      <td>WHEELCHAIR LIFT / ADA  LIFT</td>\n",
              "      <td>11</td>\n",
              "      <td>The construction work involved installing a wh...</td>\n",
              "      <td>NaN</td>\n",
              "      <td>0.527843</td>\n",
              "      <td>0.450536</td>\n",
              "      <td>0.021621</td>\n",
              "    </tr>\n",
              "    <tr>\n",
              "      <th>4</th>\n",
              "      <td>520850</td>\n",
              "      <td>4617112</td>\n",
              "      <td>400 biscayne blvd, miami, fl</td>\n",
              "      <td>PHASED PERMIT-MECHANICAL</td>\n",
              "      <td>9</td>\n",
              "      <td>The construction work involves obtaining permi...</td>\n",
              "      <td>NaN</td>\n",
              "      <td>0.445386</td>\n",
              "      <td>0.492986</td>\n",
              "      <td>0.061628</td>\n",
              "    </tr>\n",
              "    <tr>\n",
              "      <th>...</th>\n",
              "      <td>...</td>\n",
              "      <td>...</td>\n",
              "      <td>...</td>\n",
              "      <td>...</td>\n",
              "      <td>...</td>\n",
              "      <td>...</td>\n",
              "      <td>...</td>\n",
              "      <td>...</td>\n",
              "      <td>...</td>\n",
              "      <td>...</td>\n",
              "    </tr>\n",
              "    <tr>\n",
              "      <th>1001</th>\n",
              "      <td>521848</td>\n",
              "      <td>4618110</td>\n",
              "      <td>3015 grand ave, miami, fl</td>\n",
              "      <td>OWNER IDENTIFICATION SIGNS (ELECTRICAL): NEW S...</td>\n",
              "      <td>15</td>\n",
              "      <td>This description indicates the installation of...</td>\n",
              "      <td>NaN</td>\n",
              "      <td>0.122402</td>\n",
              "      <td>0.826208</td>\n",
              "      <td>0.051390</td>\n",
              "    </tr>\n",
              "    <tr>\n",
              "      <th>1002</th>\n",
              "      <td>521849</td>\n",
              "      <td>4618111</td>\n",
              "      <td>3015 grand ave, miami, fl</td>\n",
              "      <td>BOX SIGN</td>\n",
              "      <td>2</td>\n",
              "      <td>A box sign refers to a type of illuminated sig...</td>\n",
              "      <td>NaN</td>\n",
              "      <td>0.170807</td>\n",
              "      <td>0.752552</td>\n",
              "      <td>0.076641</td>\n",
              "    </tr>\n",
              "    <tr>\n",
              "      <th>1003</th>\n",
              "      <td>521850</td>\n",
              "      <td>4618112</td>\n",
              "      <td>3015 grand ave, miami, fl</td>\n",
              "      <td>OWNER IDENTIFICATION SIGNS (ELECTRICAL): NEW S...</td>\n",
              "      <td>15</td>\n",
              "      <td>This building permit filing is for installing ...</td>\n",
              "      <td>NaN</td>\n",
              "      <td>0.282064</td>\n",
              "      <td>0.703985</td>\n",
              "      <td>0.013950</td>\n",
              "    </tr>\n",
              "    <tr>\n",
              "      <th>1004</th>\n",
              "      <td>521851</td>\n",
              "      <td>4618113</td>\n",
              "      <td>1401 brickell ave, miami, fl</td>\n",
              "      <td>REPLACE SAME LOCATION CENTRAL AC / HEATING SYSTEM</td>\n",
              "      <td>11</td>\n",
              "      <td>The construction work involved replacing the c...</td>\n",
              "      <td>NaN</td>\n",
              "      <td>0.047319</td>\n",
              "      <td>0.928239</td>\n",
              "      <td>0.024442</td>\n",
              "    </tr>\n",
              "    <tr>\n",
              "      <th>1005</th>\n",
              "      <td>521852</td>\n",
              "      <td>4618114</td>\n",
              "      <td>1401 brickell ave, miami, fl</td>\n",
              "      <td>REPLACE SAME LOCATION CENTRAL AC / HEATING SYSTEM</td>\n",
              "      <td>11</td>\n",
              "      <td>The old central AC/heating system will be repl...</td>\n",
              "      <td>NaN</td>\n",
              "      <td>0.098543</td>\n",
              "      <td>0.858445</td>\n",
              "      <td>0.043012</td>\n",
              "    </tr>\n",
              "  </tbody>\n",
              "</table>\n",
              "<p>1006 rows × 10 columns</p>\n",
              "</div>\n",
              "    <div class=\"colab-df-buttons\">\n",
              "\n",
              "  <div class=\"colab-df-container\">\n",
              "    <button class=\"colab-df-convert\" onclick=\"convertToInteractive('df-ad7ada6e-d250-40fc-b6a2-429ccf9a1c41')\"\n",
              "            title=\"Convert this dataframe to an interactive table.\"\n",
              "            style=\"display:none;\">\n",
              "\n",
              "  <svg xmlns=\"http://www.w3.org/2000/svg\" height=\"24px\" viewBox=\"0 -960 960 960\">\n",
              "    <path d=\"M120-120v-720h720v720H120Zm60-500h600v-160H180v160Zm220 220h160v-160H400v160Zm0 220h160v-160H400v160ZM180-400h160v-160H180v160Zm440 0h160v-160H620v160ZM180-180h160v-160H180v160Zm440 0h160v-160H620v160Z\"/>\n",
              "  </svg>\n",
              "    </button>\n",
              "\n",
              "  <style>\n",
              "    .colab-df-container {\n",
              "      display:flex;\n",
              "      gap: 12px;\n",
              "    }\n",
              "\n",
              "    .colab-df-convert {\n",
              "      background-color: #E8F0FE;\n",
              "      border: none;\n",
              "      border-radius: 50%;\n",
              "      cursor: pointer;\n",
              "      display: none;\n",
              "      fill: #1967D2;\n",
              "      height: 32px;\n",
              "      padding: 0 0 0 0;\n",
              "      width: 32px;\n",
              "    }\n",
              "\n",
              "    .colab-df-convert:hover {\n",
              "      background-color: #E2EBFA;\n",
              "      box-shadow: 0px 1px 2px rgba(60, 64, 67, 0.3), 0px 1px 3px 1px rgba(60, 64, 67, 0.15);\n",
              "      fill: #174EA6;\n",
              "    }\n",
              "\n",
              "    .colab-df-buttons div {\n",
              "      margin-bottom: 4px;\n",
              "    }\n",
              "\n",
              "    [theme=dark] .colab-df-convert {\n",
              "      background-color: #3B4455;\n",
              "      fill: #D2E3FC;\n",
              "    }\n",
              "\n",
              "    [theme=dark] .colab-df-convert:hover {\n",
              "      background-color: #434B5C;\n",
              "      box-shadow: 0px 1px 3px 1px rgba(0, 0, 0, 0.15);\n",
              "      filter: drop-shadow(0px 1px 2px rgba(0, 0, 0, 0.3));\n",
              "      fill: #FFFFFF;\n",
              "    }\n",
              "  </style>\n",
              "\n",
              "    <script>\n",
              "      const buttonEl =\n",
              "        document.querySelector('#df-ad7ada6e-d250-40fc-b6a2-429ccf9a1c41 button.colab-df-convert');\n",
              "      buttonEl.style.display =\n",
              "        google.colab.kernel.accessAllowed ? 'block' : 'none';\n",
              "\n",
              "      async function convertToInteractive(key) {\n",
              "        const element = document.querySelector('#df-ad7ada6e-d250-40fc-b6a2-429ccf9a1c41');\n",
              "        const dataTable =\n",
              "          await google.colab.kernel.invokeFunction('convertToInteractive',\n",
              "                                                    [key], {});\n",
              "        if (!dataTable) return;\n",
              "\n",
              "        const docLinkHtml = 'Like what you see? Visit the ' +\n",
              "          '<a target=\"_blank\" href=https://colab.research.google.com/notebooks/data_table.ipynb>data table notebook</a>'\n",
              "          + ' to learn more about interactive tables.';\n",
              "        element.innerHTML = '';\n",
              "        dataTable['output_type'] = 'display_data';\n",
              "        await google.colab.output.renderOutput(dataTable, element);\n",
              "        const docLink = document.createElement('div');\n",
              "        docLink.innerHTML = docLinkHtml;\n",
              "        element.appendChild(docLink);\n",
              "      }\n",
              "    </script>\n",
              "  </div>\n",
              "\n",
              "\n",
              "<div id=\"df-168a9353-32bc-4e06-96da-27ab0ef12d9b\">\n",
              "  <button class=\"colab-df-quickchart\" onclick=\"quickchart('df-168a9353-32bc-4e06-96da-27ab0ef12d9b')\"\n",
              "            title=\"Suggest charts\"\n",
              "            style=\"display:none;\">\n",
              "\n",
              "<svg xmlns=\"http://www.w3.org/2000/svg\" height=\"24px\"viewBox=\"0 0 24 24\"\n",
              "     width=\"24px\">\n",
              "    <g>\n",
              "        <path d=\"M19 3H5c-1.1 0-2 .9-2 2v14c0 1.1.9 2 2 2h14c1.1 0 2-.9 2-2V5c0-1.1-.9-2-2-2zM9 17H7v-7h2v7zm4 0h-2V7h2v10zm4 0h-2v-4h2v4z\"/>\n",
              "    </g>\n",
              "</svg>\n",
              "  </button>\n",
              "\n",
              "<style>\n",
              "  .colab-df-quickchart {\n",
              "      --bg-color: #E8F0FE;\n",
              "      --fill-color: #1967D2;\n",
              "      --hover-bg-color: #E2EBFA;\n",
              "      --hover-fill-color: #174EA6;\n",
              "      --disabled-fill-color: #AAA;\n",
              "      --disabled-bg-color: #DDD;\n",
              "  }\n",
              "\n",
              "  [theme=dark] .colab-df-quickchart {\n",
              "      --bg-color: #3B4455;\n",
              "      --fill-color: #D2E3FC;\n",
              "      --hover-bg-color: #434B5C;\n",
              "      --hover-fill-color: #FFFFFF;\n",
              "      --disabled-bg-color: #3B4455;\n",
              "      --disabled-fill-color: #666;\n",
              "  }\n",
              "\n",
              "  .colab-df-quickchart {\n",
              "    background-color: var(--bg-color);\n",
              "    border: none;\n",
              "    border-radius: 50%;\n",
              "    cursor: pointer;\n",
              "    display: none;\n",
              "    fill: var(--fill-color);\n",
              "    height: 32px;\n",
              "    padding: 0;\n",
              "    width: 32px;\n",
              "  }\n",
              "\n",
              "  .colab-df-quickchart:hover {\n",
              "    background-color: var(--hover-bg-color);\n",
              "    box-shadow: 0 1px 2px rgba(60, 64, 67, 0.3), 0 1px 3px 1px rgba(60, 64, 67, 0.15);\n",
              "    fill: var(--button-hover-fill-color);\n",
              "  }\n",
              "\n",
              "  .colab-df-quickchart-complete:disabled,\n",
              "  .colab-df-quickchart-complete:disabled:hover {\n",
              "    background-color: var(--disabled-bg-color);\n",
              "    fill: var(--disabled-fill-color);\n",
              "    box-shadow: none;\n",
              "  }\n",
              "\n",
              "  .colab-df-spinner {\n",
              "    border: 2px solid var(--fill-color);\n",
              "    border-color: transparent;\n",
              "    border-bottom-color: var(--fill-color);\n",
              "    animation:\n",
              "      spin 1s steps(1) infinite;\n",
              "  }\n",
              "\n",
              "  @keyframes spin {\n",
              "    0% {\n",
              "      border-color: transparent;\n",
              "      border-bottom-color: var(--fill-color);\n",
              "      border-left-color: var(--fill-color);\n",
              "    }\n",
              "    20% {\n",
              "      border-color: transparent;\n",
              "      border-left-color: var(--fill-color);\n",
              "      border-top-color: var(--fill-color);\n",
              "    }\n",
              "    30% {\n",
              "      border-color: transparent;\n",
              "      border-left-color: var(--fill-color);\n",
              "      border-top-color: var(--fill-color);\n",
              "      border-right-color: var(--fill-color);\n",
              "    }\n",
              "    40% {\n",
              "      border-color: transparent;\n",
              "      border-right-color: var(--fill-color);\n",
              "      border-top-color: var(--fill-color);\n",
              "    }\n",
              "    60% {\n",
              "      border-color: transparent;\n",
              "      border-right-color: var(--fill-color);\n",
              "    }\n",
              "    80% {\n",
              "      border-color: transparent;\n",
              "      border-right-color: var(--fill-color);\n",
              "      border-bottom-color: var(--fill-color);\n",
              "    }\n",
              "    90% {\n",
              "      border-color: transparent;\n",
              "      border-bottom-color: var(--fill-color);\n",
              "    }\n",
              "  }\n",
              "</style>\n",
              "\n",
              "  <script>\n",
              "    async function quickchart(key) {\n",
              "      const quickchartButtonEl =\n",
              "        document.querySelector('#' + key + ' button');\n",
              "      quickchartButtonEl.disabled = true;  // To prevent multiple clicks.\n",
              "      quickchartButtonEl.classList.add('colab-df-spinner');\n",
              "      try {\n",
              "        const charts = await google.colab.kernel.invokeFunction(\n",
              "            'suggestCharts', [key], {});\n",
              "      } catch (error) {\n",
              "        console.error('Error during call to suggestCharts:', error);\n",
              "      }\n",
              "      quickchartButtonEl.classList.remove('colab-df-spinner');\n",
              "      quickchartButtonEl.classList.add('colab-df-quickchart-complete');\n",
              "    }\n",
              "    (() => {\n",
              "      let quickchartButtonEl =\n",
              "        document.querySelector('#df-168a9353-32bc-4e06-96da-27ab0ef12d9b button');\n",
              "      quickchartButtonEl.style.display =\n",
              "        google.colab.kernel.accessAllowed ? 'block' : 'none';\n",
              "    })();\n",
              "  </script>\n",
              "</div>\n",
              "\n",
              "  <div id=\"id_d9ecb175-28bc-4501-86f7-79631279d91f\">\n",
              "    <style>\n",
              "      .colab-df-generate {\n",
              "        background-color: #E8F0FE;\n",
              "        border: none;\n",
              "        border-radius: 50%;\n",
              "        cursor: pointer;\n",
              "        display: none;\n",
              "        fill: #1967D2;\n",
              "        height: 32px;\n",
              "        padding: 0 0 0 0;\n",
              "        width: 32px;\n",
              "      }\n",
              "\n",
              "      .colab-df-generate:hover {\n",
              "        background-color: #E2EBFA;\n",
              "        box-shadow: 0px 1px 2px rgba(60, 64, 67, 0.3), 0px 1px 3px 1px rgba(60, 64, 67, 0.15);\n",
              "        fill: #174EA6;\n",
              "      }\n",
              "\n",
              "      [theme=dark] .colab-df-generate {\n",
              "        background-color: #3B4455;\n",
              "        fill: #D2E3FC;\n",
              "      }\n",
              "\n",
              "      [theme=dark] .colab-df-generate:hover {\n",
              "        background-color: #434B5C;\n",
              "        box-shadow: 0px 1px 3px 1px rgba(0, 0, 0, 0.15);\n",
              "        filter: drop-shadow(0px 1px 2px rgba(0, 0, 0, 0.3));\n",
              "        fill: #FFFFFF;\n",
              "      }\n",
              "    </style>\n",
              "    <button class=\"colab-df-generate\" onclick=\"generateWithVariable('classi')\"\n",
              "            title=\"Generate code using this dataframe.\"\n",
              "            style=\"display:none;\">\n",
              "\n",
              "  <svg xmlns=\"http://www.w3.org/2000/svg\" height=\"24px\"viewBox=\"0 0 24 24\"\n",
              "       width=\"24px\">\n",
              "    <path d=\"M7,19H8.4L18.45,9,17,7.55,7,17.6ZM5,21V16.75L18.45,3.32a2,2,0,0,1,2.83,0l1.4,1.43a1.91,1.91,0,0,1,.58,1.4,1.91,1.91,0,0,1-.58,1.4L9.25,21ZM18.45,9,17,7.55Zm-12,3A5.31,5.31,0,0,0,4.9,8.1,5.31,5.31,0,0,0,1,6.5,5.31,5.31,0,0,0,4.9,4.9,5.31,5.31,0,0,0,6.5,1,5.31,5.31,0,0,0,8.1,4.9,5.31,5.31,0,0,0,12,6.5,5.46,5.46,0,0,0,6.5,12Z\"/>\n",
              "  </svg>\n",
              "    </button>\n",
              "    <script>\n",
              "      (() => {\n",
              "      const buttonEl =\n",
              "        document.querySelector('#id_d9ecb175-28bc-4501-86f7-79631279d91f button.colab-df-generate');\n",
              "      buttonEl.style.display =\n",
              "        google.colab.kernel.accessAllowed ? 'block' : 'none';\n",
              "\n",
              "      buttonEl.onclick = () => {\n",
              "        google.colab.notebook.generateWithVariable('classi');\n",
              "      }\n",
              "      })();\n",
              "    </script>\n",
              "  </div>\n",
              "\n",
              "    </div>\n",
              "  </div>\n"
            ],
            "application/vnd.google.colaboratory.intrinsic+json": {
              "type": "dataframe",
              "variable_name": "classi",
              "summary": "{\n  \"name\": \"classi\",\n  \"rows\": 1006,\n  \"fields\": [\n    {\n      \"column\": \"Unnamed: 0\",\n      \"properties\": {\n        \"dtype\": \"number\",\n        \"std\": 290,\n        \"min\": 520846,\n        \"max\": 521852,\n        \"num_unique_values\": 1006,\n        \"samples\": [\n          521774,\n          521477,\n          521529\n        ],\n        \"semantic_type\": \"\",\n        \"description\": \"\"\n      }\n    },\n    {\n      \"column\": \"Index\",\n      \"properties\": {\n        \"dtype\": \"number\",\n        \"std\": 290,\n        \"min\": 4617108,\n        \"max\": 4618114,\n        \"num_unique_values\": 1006,\n        \"samples\": [\n          4618036,\n          4617739,\n          4617791\n        ],\n        \"semantic_type\": \"\",\n        \"description\": \"\"\n      }\n    },\n    {\n      \"column\": \"Full Address\",\n      \"properties\": {\n        \"dtype\": \"category\",\n        \"num_unique_values\": 87,\n        \"samples\": [\n          \"3690 w flagler st, miami, fl\",\n          \"900 biscayne blvd, miami, fl\",\n          \"1201 brickell ave, miami, fl\"\n        ],\n        \"semantic_type\": \"\",\n        \"description\": \"\"\n      }\n    },\n    {\n      \"column\": \"DESCRIPTION\",\n      \"properties\": {\n        \"dtype\": \"category\",\n        \"num_unique_values\": 334,\n        \"samples\": [\n          \"CLOTHES WASHERS|DRYERS|LIGHT SOCKET|LOW VOLTAGE COMPUTER / TV CABLE / PHONE TERMINAL|ROUGH WIRING OUTLETS|REFRIGERATORS DOMESTIC|SUB-FEEDS|WATER HEATER / BOILER\",\n          \"ROUGHING FIXTURE: DISHWASHER|SETTING FIXTURE: DISHWASHER|ROUGHING FIXTURE: ELECTRIC WATER HEATER|SETTING FIXTURE: ELECTRIC WATER HEATER|ROUGHING FIXTURE: FLOOR DRAIN|SETTING FIXTURE: FLOOR DRAIN|ROUGHING FIXTURE: ICE MAKER|SETTING FIXTURE: ICE MAKER|SANITARY SEWER: INSIDE CONNECTION|ROUGHING FIXTURE: KITCHEN SINK|SETTING FIXTURE: KITCHEN SINK|ROUGHING FIXTURE: LAUNDRY TRAY / WASHER|SETTING FIXTURE: LAUNDRY TRAY / WASHER|ROUGHING FIXTURE: LAVATORY|SETTING FIXTURE: LAVATORY|ROUGHING FIXTURE: TOILET / WATER CLOSET|SETTING FIXTURE: TOILET / WATER CLOSET\",\n          \"COMMERCIAL OUTLET (EXCEPT PAINTING)|PADDLE / CEILING FAN\"\n        ],\n        \"semantic_type\": \"\",\n        \"description\": \"\"\n      }\n    },\n    {\n      \"column\": \"tok\",\n      \"properties\": {\n        \"dtype\": \"number\",\n        \"std\": 28,\n        \"min\": 2,\n        \"max\": 277,\n        \"num_unique_values\": 92,\n        \"samples\": [\n          62,\n          65,\n          95\n        ],\n        \"semantic_type\": \"\",\n        \"description\": \"\"\n      }\n    },\n    {\n      \"column\": \"Corrected_Text\",\n      \"properties\": {\n        \"dtype\": \"string\",\n        \"num_unique_values\": 852,\n        \"samples\": [\n          \"The construction work described as \\\"TEMPORARY FOR TESTING\\\" was conducted for the purpose of conducting tests or experiments.\",\n          \"This building permit involves installing various appliances including a fryalator, oven, range, range top, and a water heater/pool heater, along with associated electrical rough outlets and safety features.\",\n          \"This construction work involved installing appliances such as a fryalator, oven, range, and range top, along with related electrical outlets and safety equipment.\"\n        ],\n        \"semantic_type\": \"\",\n        \"description\": \"\"\n      }\n    },\n    {\n      \"column\": \"Unnamed: 0.1\",\n      \"properties\": {\n        \"dtype\": \"number\",\n        \"std\": null,\n        \"min\": null,\n        \"max\": null,\n        \"num_unique_values\": 0,\n        \"samples\": [],\n        \"semantic_type\": \"\",\n        \"description\": \"\"\n      }\n    },\n    {\n      \"column\": \"Construction of a new building\",\n      \"properties\": {\n        \"dtype\": \"number\",\n        \"std\": 0.26350752316617365,\n        \"min\": 0.00308323185890913,\n        \"max\": 0.9911812543869019,\n        \"num_unique_values\": 880,\n        \"samples\": [],\n        \"semantic_type\": \"\",\n        \"description\": \"\"\n      }\n    },\n    {\n      \"column\": \"Existing Structure Modification\",\n      \"properties\": {\n        \"dtype\": \"number\",\n        \"std\": 0.2607579299332912,\n        \"min\": 0.007711534854024649,\n        \"max\": 0.9805514812469482,\n        \"num_unique_values\": 879,\n        \"samples\": [],\n        \"semantic_type\": \"\",\n        \"description\": \"\"\n      }\n    },\n    {\n      \"column\": \"Demolition of a building\",\n      \"properties\": {\n        \"dtype\": \"number\",\n        \"std\": 0.07852405241896099,\n        \"min\": 0.0009917205898091197,\n        \"max\": 0.9696146249771118,\n        \"num_unique_values\": 880,\n        \"samples\": [],\n        \"semantic_type\": \"\",\n        \"description\": \"\"\n      }\n    }\n  ]\n}"
            }
          },
          "metadata": {},
          "execution_count": 47
        }
      ]
    }
  ],
  "metadata": {
    "accelerator": "GPU",
    "colab": {
      "gpuType": "A100",
      "machine_shape": "hm",
      "provenance": []
    },
    "kernelspec": {
      "display_name": "Python 3",
      "name": "python3"
    },
    "language_info": {
      "name": "python"
    }
  },
  "nbformat": 4,
  "nbformat_minor": 0
}